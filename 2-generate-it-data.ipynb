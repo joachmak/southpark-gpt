{
 "cells": [
  {
   "cell_type": "code",
   "execution_count": 46,
   "id": "56ac9409-3098-4e59-a214-287015940c07",
   "metadata": {},
   "outputs": [],
   "source": [
    "import requests\n",
    "import ast\n",
    "from bs4 import BeautifulSoup\n",
    "import os\n",
    "import pandas as pd\n",
    "import re\n",
    "import json"
   ]
  },
  {
   "cell_type": "code",
   "execution_count": 47,
   "id": "20094335-b02c-49f2-ac98-f9128cdab42b",
   "metadata": {},
   "outputs": [],
   "source": [
    "with open('synopsis_mappings.txt', 'r') as file:\n",
    "    dict_str = file.read()\n",
    "synopsis_dict = ast.literal_eval(dict_str)\n",
    "\n",
    "def get_episode_synopsis(episode_filename: str, season: int):\n",
    "    episode_number = episode_filename.split(\"_\")[0][1:]\n",
    "    if (len(episode_number) == 1):\n",
    "        episode_number = \"0\" + episode_number\n",
    "    episode_code = str(season) + episode_number\n",
    "    return synopsis_dict[episode_code]\n",
    "        "
   ]
  },
  {
   "cell_type": "code",
   "execution_count": 48,
   "id": "d1be8598-9cd2-4b38-a33d-614651ccfc62",
   "metadata": {},
   "outputs": [],
   "source": [
    "def get_str_script_from_df(df):\n",
    "    # convert df into a string episode script\n",
    "    df = df.iloc[:, 2:].fillna('<scene>')\n",
    "    \n",
    "    # Concatenate the remaining columns into a single string for each row\n",
    "    df['formatted_string'] = df.apply(lambda row: ': '.join(row.astype(str)), axis=1)\n",
    "    \n",
    "    # Combine all rows into a single string separated by line breaks\n",
    "    final_string = '\\n'.join(df['formatted_string'])\n",
    "    return \"plot: \" + synopsis + \"\\n\" + final_string.replace(\"\\'\", \"`\").lower()"
   ]
  },
  {
   "cell_type": "code",
   "execution_count": 57,
   "id": "e195fd3d-5429-4bd7-9f91-a6e99ed65509",
   "metadata": {},
   "outputs": [],
   "source": [
    "SEASONS = [9,10,11,12,13,14,15]\n",
    "CHARACTERS = [\"stan\", \"kyle\", \"cartman\", \"butters\"]\n",
    "\n",
    "char_descriptions = {\n",
    "    \"cartman\": \"Eric Cartman embodies both extreme negativity and occasional glimpses of a more nuanced personality. He is often described as evil, vicious, angry, self-absorbed, immature, destructive, sarcastic, snooty, loud-mouthed, lazy, and seemingly mentally unbalanced. Cartman is infamous for his foul language, racist views, and tendency to stereotype others. His dark personality often suggests a severe mental imbalance. He lacks moral responsibility and social conscience, deriving pleasure from the misfortunes of others and usually showing a lack of empathy.His extreme actions are sometimes interpreted as a defense mechanism against his insecurities and possibly confused sexuality. Cartman's actions often parody the cliché of a typical villain becoming temporarily benevolent. His seemingly good intentions often conceal ulterior motives, such as financial gain or personal vendettas, particularly against his Jewish friend Kyle. Apart from his anti-Semitism, Cartman also harbors prejudice against racial, ethnic, religious minorities, people of lower income like his friend Kenny, and red-haired, light-skinned, freckled individuals (anti-ginger sentiment). He particularly loathes hippies and liberals. Cartman is an orderly individual, using rules and order to manipulate others to his advantage. He idolizes figures who share his bigotries and aims. He employs both law and chaos for personal gain. While often cold-hearted and selfish, Cartman occasionally shows a warm-hearted, caring side, though this is usually a façade for a selfish scheme.\",\n",
    "    \"stan\": \"Stan Marsh from 'South Park' is characterized as the most tender and sensitive among the main characters. He often displays a high moral compass, challenging unethical practices and confronting dishonesty. His sensitivity is highlighted through his reactions to personal losses and his deep empathy for animals, showcasing his strong animal rights stance.Stan is known for his clarity in understanding scams and corporate corruption, often seeing through falsely glorified practices and celebrities. This skepticism might stem from his distrust of adults, influenced by his experiences with his often immature and incompetent father.He shares a close bond with Kyle, but they have distinct personalities. While they sometimes interchange roles of being the more gullible or skeptical one, their friendship remains a constant in the series.A recurring theme in Stan's character is his struggle with depression. He experiences profound sadness in response to personal events, notably in relationships, and often adopts a cynical worldview during these periods.Overall, Stan is a complex character, balancing his tender-hearted nature with a sharp awareness of the world's harsh realities. His actions often reflect a mix of moral integrity, emotional depth, and a critical view of societal issues.\",\n",
    "    \"kyle\": \"Kyle Broflovski from 'South Park' is characterized by his strong morals, firm beliefs, and a compassionate, if somewhat temperamental, personality. He is particularly quick to anger when interacting with his antagonist, Cartman, often finding himself coaxed into conflicts due to his emotional nature. Despite this, Kyle generally bases his decisions on his beliefs and emotions, sometimes leading to manipulation by others. Kyle is known for his moral standing, often opposing actions he deems wrong or evil, though he can be pressured by peers into participating. His morality is not infallible; he has abandoned his principles for monetary gain, only to self-reflect and change his stance upon realizing the error of his ways. Kyle's fraternal instinct is strong, especially towards his adopted brother Ike, whom he goes to great lengths to protect and care for. His compassionate side extends beyond his immediate circle, as he often shows empathy towards others, unlike many of his peers. However, Kyle can also display mean and neurotic traits. Intelligent and sensible, Kyle is usually the voice of reason among his friends, often finding logical solutions to problems, though these are sometimes overshadowed by more absurd ideas from his peers.\",\n",
    "    \"butters\": \"Butters Stotch from 'South Park' stands out with his uniquely innocent and warm personality in a show known for its cynicism and mature humor. He embodies the traits of sweetness, naivety, and gullibility, contrasting sharply with the other more adult-like children in the series. Butters often displays a childlike demeanor, marked by a genuine niceness and a lack of the usual cruelty or confidence found in his peers. This makes him both endearing and vulnerable, as he can be easily taken advantage of. Unlike most characters in 'South Park', Butters rarely uses foul language, instead opting for whimsical euphemisms. He is committed to self-improvement and has talents like tap dancing, but his extremely low self-esteem often hinders him from recognizing or effectively using his abilities. This low self-esteem also leads to a perpetual fear of being grounded. Socially considered a dork, Butters is consistently seeking approval and acceptance, making him a relatable and sympathetic character.\"\n",
    "}\n",
    "manager_description = \"You are a bot controlling the speaking pattern for a system that is going to be generating South Park scripts. Given input text, containing information about previous lines in the episode, your task is to respond with a single word, that is the name of the character who is going to speak next. The only characters you can say are 'cartman', 'stan', 'kyle' or 'butters'. You cannot ask multiple agents to speak simultaneously.\"\n",
    "# _data vars are arrays of dictionaries like this:\n",
    "# {\"messages\": [\n",
    "# {\"role\": \"system\", \"content\": \"Marv is a factual chatbot that is also sarcastic.\"}, \n",
    "# {\"role\": \"user\", \"content\": \"What's the capital of France?\"}, \n",
    "# {\"role\": \"assistant\", \"content\": \"Paris, as if everyone doesn't know that already.\"}\n",
    "# ]}\n",
    "# system provides agent context. user provides script context (prev_lines)\n",
    "cartman_data = []\n",
    "stan_data = []\n",
    "kyle_data = []\n",
    "butters_data = []\n",
    "manager_data = []\n",
    "\n",
    "for SEASON in SEASONS:\n",
    "    # get all .csv files in correct season dir\n",
    "    episodes = list(filter(lambda file: file[-4:] == \".csv\", os.listdir(os.path.join(\".\", \"episodes_csv\", f\"s{SEASON}\"))))\n",
    "    \n",
    "    for episode in episodes:\n",
    "        df = pd.read_csv(os.path.join(\".\", \"episodes_csv\", f\"s{SEASON}\", episode), delimiter=';', header=None)\n",
    "        synopsis = get_episode_synopsis(episode, SEASON)\n",
    "        str_script = get_str_script_from_df(df)\n",
    "        \n",
    "        # Generate input-output tuples\n",
    "        lines = str_script.split(\"\\n\")\n",
    "        prev_lines = []  # store context\n",
    "        \n",
    "        # only use the first lines to reduce context size (and *ahem* tuning costs)\n",
    "        for line in lines[:40]:\n",
    "            try:\n",
    "                split_line = line.split(\": \")\n",
    "                character = split_line[0]\n",
    "                char_line = split_line[1]\n",
    "                input = \"\\n\".join(prev_lines)\n",
    "                output = char_line\n",
    "            \n",
    "                prev_lines.append(line)\n",
    "                \n",
    "                if character not in char_descriptions:\n",
    "                    continue\n",
    "                \n",
    "                message = {\n",
    "                    \"messages\": [\n",
    "                            {\"role\": \"system\", \"content\": char_descriptions[character]},\n",
    "                            {\"role\": \"user\", \"content\": input},\n",
    "                            {\"role\": \"assistant\", \"content\": output}\n",
    "                        ]\n",
    "                }\n",
    "                manager_message = {\n",
    "                    \"messages\": [\n",
    "                            {\"role\": \"system\", \"content\": manager_description},\n",
    "                            {\"role\": \"user\", \"content\": input},\n",
    "                            {\"role\": \"assistant\", \"content\": character}\n",
    "                        ]\n",
    "                }\n",
    "                manager_data.append(manager_message)\n",
    "\n",
    "                if character == \"cartman\":\n",
    "                    cartman_data.append(message)\n",
    "                elif character == \"stan\":\n",
    "                    stan_data.append(message)\n",
    "                elif character == \"kyle\":\n",
    "                    kyle_data.append(message)\n",
    "                elif character == \"butters\":\n",
    "                    butters_data.append(message)\n",
    "            except:\n",
    "                continue"
   ]
  },
  {
   "cell_type": "code",
   "execution_count": 58,
   "id": "60e6a8b9-5182-4003-a835-2e1ce687b524",
   "metadata": {},
   "outputs": [],
   "source": [
    "# save all to file\n",
    "def save_data_to_file(data: list, save_filepath: str):\n",
    "    full_str = \"\"\n",
    "    for line in data:\n",
    "        json_string = json.dumps(line, separators=(',', ':'))\n",
    "        full_str += json_string + \"\\n\"\n",
    "    with open(save_filepath, 'w') as file:\n",
    "        file.write(full_str)"
   ]
  },
  {
   "cell_type": "code",
   "execution_count": 59,
   "id": "3d8c654f-3b93-460c-b4e3-c61f65474b21",
   "metadata": {},
   "outputs": [],
   "source": [
    "TUNING_EXAMPLES = 100 \n",
    "EVAL_EXAMPLES = 100"
   ]
  },
  {
   "cell_type": "code",
   "execution_count": 60,
   "id": "7274063c-c683-487b-afbd-ab4286eafc49",
   "metadata": {},
   "outputs": [],
   "source": [
    "# save tuning data\n",
    "save_data_to_file(cartman_data[:TUNING_EXAMPLES], os.path.join(\"tuning_data\", \"cartman_it.txt\")) \n",
    "save_data_to_file(stan_data[:TUNING_EXAMPLES], os.path.join(\"tuning_data\", \"stan_it.txt\"))\n",
    "save_data_to_file(kyle_data[:TUNING_EXAMPLES], os.path.join(\"tuning_data\", \"kyle_it.txt\"))\n",
    "save_data_to_file(butters_data[:TUNING_EXAMPLES], os.path.join(\"tuning_data\", \"butters_it.txt\"))\n",
    "save_data_to_file(manager_data[:TUNING_EXAMPLES], os.path.join(\"tuning_data\", \"manager_it.txt\"))"
   ]
  },
  {
   "cell_type": "code",
   "execution_count": 61,
   "id": "36a95d7f-e368-4651-ba6f-ad6caa7a19ca",
   "metadata": {},
   "outputs": [],
   "source": [
    "# save evaluation data\n",
    "save_data_to_file(cartman_data[TUNING_EXAMPLES + 1:TUNING_EXAMPLES + 1 + EVAL_EXAMPLES], os.path.join(\"tuning_data\", \"cartman_eval.txt\")) \n",
    "save_data_to_file(stan_data[TUNING_EXAMPLES + 1:TUNING_EXAMPLES + 1 + EVAL_EXAMPLES], os.path.join(\"tuning_data\", \"stan_eval.txt\"))\n",
    "save_data_to_file(kyle_data[TUNING_EXAMPLES + 1:TUNING_EXAMPLES + 1 + EVAL_EXAMPLES], os.path.join(\"tuning_data\", \"kyle_eval.txt\"))\n",
    "save_data_to_file(butters_data[TUNING_EXAMPLES + 1:TUNING_EXAMPLES + 1 + EVAL_EXAMPLES], os.path.join(\"tuning_data\", \"butters_eval.txt\"))\n",
    "save_data_to_file(manager_data[TUNING_EXAMPLES + 1:TUNING_EXAMPLES + 1 + EVAL_EXAMPLES], os.path.join(\"tuning_data\", \"manager_eval.txt\"))"
   ]
  }
 ],
 "metadata": {
  "kernelspec": {
   "display_name": "Python 3 (ipykernel)",
   "language": "python",
   "name": "python3"
  },
  "language_info": {
   "codemirror_mode": {
    "name": "ipython",
    "version": 3
   },
   "file_extension": ".py",
   "mimetype": "text/x-python",
   "name": "python",
   "nbconvert_exporter": "python",
   "pygments_lexer": "ipython3",
   "version": "3.11.4"
  }
 },
 "nbformat": 4,
 "nbformat_minor": 5
}
