{
 "cells": [
  {
   "cell_type": "code",
   "execution_count": 2,
   "id": "36410b34-831e-4404-98b3-716ab0f9da76",
   "metadata": {},
   "outputs": [],
   "source": [
    "import os\n",
    "import pandas as pd\n",
    "import re\n",
    "import json"
   ]
  },
  {
   "cell_type": "code",
   "execution_count": 3,
   "id": "28143257-4783-4ab3-91dd-2b744f050440",
   "metadata": {},
   "outputs": [],
   "source": [
    "# get api key from file\n",
    "API_KEY = \"\"\n",
    "with open(\"key.secret\", \"r\") as f:\n",
    "    API_KEY = f.read()"
   ]
  },
  {
   "cell_type": "code",
   "execution_count": 4,
   "id": "e4e44dbc-deab-4014-b464-4b6d0ebb6eb4",
   "metadata": {},
   "outputs": [],
   "source": [
    "from openai import OpenAI\n",
    "client = OpenAI(api_key=API_KEY)\n"
   ]
  },
  {
   "cell_type": "code",
   "execution_count": 10,
   "id": "9158ce5d-43de-47f4-a719-67793b35535c",
   "metadata": {},
   "outputs": [
    {
     "name": "stdout",
     "output_type": "stream",
     "text": [
      "False\n"
     ]
    }
   ],
   "source": [
    "response = client.moderations.create(input=\"\"\"\n",
    "plot: Butters is \\u2019s seen a Vampire at school but he can\\u2019t get anyone to listen to him. Meanwhile, the Goth Kids are angry and frustrated when the other kids can\\u2019t tell the difference between a Goth Kid and a Vampire Kid.\\n<scene>: south park elementary, day, computer lab. mr. mackey is guiding the fourth graders through some computer operations by reading from a book.\\nmr. mackey: m`kay, so now the computer will show a command bar, m`kay, and we type in \\\"x = y + 1\\\". m`kay, and then it says we hit command-y to bring up the menu screen.\\ncartman: aw man, you`ve got to be kidding me. [cartman is playing a ww2 shooter on his computer, with japanese warcries sounding] the japanese are everywhere.\\nmr. mackey: m`kay, now right-click on menu item \\\"equate o\\\" and type in \\\"input y\\\"?\\nkyle: nah, dude. are you on america`s side, stan? [looks like all the other kids are playing the same game: call of duty: world at war]\\nstan: no, i`m on the japanese side.\\ncartman: oh, who just shot me? [bebe leans back in her chair, looks at cartman, and gives him the finger]\\nmr. mackey: m`kay, let`s see, uh the right-click is the upper-right... [his voice trails off] uhhh, but then what the hell is the...? [closes the book and goes back to normal voice] okay kids, i`m gonna need to get some clarification on this. uh, just keep entering the calculations; i`ll be right back, m`kay.\\ncartman: oh dude, i wish i had a real flamethrower. it works awesome on japanese.\\nbutters: [runs into the lab and hides behind the wall] oh my god, oh my god! [runs up to stan] stan! stan, we have a big problem.\\nstan: dude, what?\\nbutters: there`s vampires in the school!\\nstan: what?\\nbutters: vampires. i`ve seen `em.\\nstan: dude, aw! who`s using the flak jacket cheat?!\\nred: not a cheat if you rank up.\n",
    "\"\"\")\n",
    "return response.results[0].flagged\n",
    "\n",
    "output = \n",
    "print(output.flagged)"
   ]
  }
 ],
 "metadata": {
  "kernelspec": {
   "display_name": "Python 3 (ipykernel)",
   "language": "python",
   "name": "python3"
  },
  "language_info": {
   "codemirror_mode": {
    "name": "ipython",
    "version": 3
   },
   "file_extension": ".py",
   "mimetype": "text/x-python",
   "name": "python",
   "nbconvert_exporter": "python",
   "pygments_lexer": "ipython3",
   "version": "3.11.4"
  }
 },
 "nbformat": 4,
 "nbformat_minor": 5
}
