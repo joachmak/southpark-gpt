{
 "cells": [
  {
   "cell_type": "code",
   "execution_count": 13,
   "id": "36410b34-831e-4404-98b3-716ab0f9da76",
   "metadata": {},
   "outputs": [],
   "source": [
    "import os\n",
    "from openai import OpenAI"
   ]
  },
  {
   "cell_type": "code",
   "execution_count": 14,
   "id": "28143257-4783-4ab3-91dd-2b744f050440",
   "metadata": {},
   "outputs": [],
   "source": [
    "# get api key from file\n",
    "API_KEY = \"\"\n",
    "with open(\"key.secret\", \"r\") as f:\n",
    "    API_KEY = f.read()"
   ]
  },
  {
   "cell_type": "code",
   "execution_count": 15,
   "id": "e4e44dbc-deab-4014-b464-4b6d0ebb6eb4",
   "metadata": {},
   "outputs": [],
   "source": [
    "client = OpenAI(api_key=API_KEY)"
   ]
  },
  {
   "cell_type": "markdown",
   "id": "41b80aed-12d2-4fb3-8730-3cbc71a15e1c",
   "metadata": {},
   "source": [
    "### Upload tuning files"
   ]
  },
  {
   "cell_type": "code",
   "execution_count": 16,
   "id": "2e315bd5-a585-48e1-ac2f-c5c474be18c2",
   "metadata": {},
   "outputs": [],
   "source": [
    "tuning_path = os.path.join(\".\", \"tuning_data\")\n",
    "tuning_files = [\"butters_it.jsonl\", \"cartman_it.jsonl\", \"kyle_it.jsonl\", \"manager_it.jsonl\", \"stan_it.jsonl\"]\n",
    "\n",
    "uploaded_files = []\n",
    "\n",
    "for file in tuning_files:\n",
    "    path = os.path.join(tuning_path, file)\n",
    "    uploaded_file = client.files.create(\n",
    "      file=open(path, \"rb\"),\n",
    "      purpose=\"fine-tune\",\n",
    "    )\n",
    "    uploaded_files.append(uploaded_file)"
   ]
  },
  {
   "cell_type": "code",
   "execution_count": null,
   "id": "5fe0d82f-4f0d-45de-9849-355d87b7201c",
   "metadata": {},
   "outputs": [],
   "source": [
    "uploaded_files"
   ]
  },
  {
   "cell_type": "markdown",
   "id": "061d4ccb-fc0e-42d1-9be0-d293498a1c3b",
   "metadata": {},
   "source": [
    "### Upload eval (validation) files"
   ]
  },
  {
   "cell_type": "code",
   "execution_count": 20,
   "id": "c8c83175-fa16-4669-ab03-c9d42f3ad1bd",
   "metadata": {},
   "outputs": [],
   "source": [
    "eval_files = [\"butters_eval.jsonl\", \"cartman_eval.jsonl\", \"kyle_eval.jsonl\", \"manager_eval.jsonl\", \"stan_eval.jsonl\"]\n",
    "\n",
    "uploaded_files_eval = []\n",
    "\n",
    "for file in eval_files:\n",
    "    path = os.path.join(tuning_path, file)\n",
    "    uploaded_file = client.files.create(\n",
    "      file=open(path, \"rb\"),\n",
    "      purpose=\"fine-tune\",\n",
    "    )\n",
    "    uploaded_files_eval.append(uploaded_file)"
   ]
  },
  {
   "cell_type": "code",
   "execution_count": null,
   "id": "d95ba755-538d-4833-8ea0-b143c95fb8ab",
   "metadata": {},
   "outputs": [],
   "source": [
    "uploaded_files_eval"
   ]
  },
  {
   "cell_type": "markdown",
   "id": "464acc5a-be60-4f16-a442-697829e2f30a",
   "metadata": {},
   "source": [
    "### Do the tuning"
   ]
  },
  {
   "cell_type": "code",
   "execution_count": 31,
   "id": "bc8b32b5-346a-445e-9617-e0a4d70f9ef4",
   "metadata": {},
   "outputs": [],
   "source": [
    "def find_file(l: list, name: str):\n",
    "    for file in l:\n",
    "        if name in file.filename:\n",
    "            return file"
   ]
  },
  {
   "cell_type": "code",
   "execution_count": 33,
   "id": "f462b312-f211-4577-a7c3-6b97e5bdb90e",
   "metadata": {},
   "outputs": [],
   "source": [
    "def start_tuning_job(model_name, it_file, eval_file):\n",
    "    client.fine_tuning.jobs.create(\n",
    "        training_file=it_file.id, \n",
    "        model=\"gpt-3.5-turbo\",\n",
    "        suffix=model_name,\n",
    "        validation_file=eval_file.id,\n",
    "        hyperparameters={\n",
    "            \"n_epochs\":3\n",
    "        }\n",
    "    )"
   ]
  },
  {
   "cell_type": "code",
   "execution_count": 41,
   "id": "9158ce5d-43de-47f4-a719-67793b35535c",
   "metadata": {},
   "outputs": [],
   "source": [
    "model_name = \"butters\"\n",
    "it_file = find_file(uploaded_files, model_name)\n",
    "eval_file = find_file(uploaded_files_eval, model_name)\n",
    "        \n",
    "start_tuning_job(model_name, it_file, eval_file)"
   ]
  },
  {
   "cell_type": "code",
   "execution_count": 40,
   "id": "9b8eacc7-8cda-4ab3-8cd9-4a1ad77a38b1",
   "metadata": {},
   "outputs": [],
   "source": [
    "model_name = \"cartman\"\n",
    "it_file = find_file(uploaded_files, model_name)\n",
    "eval_file = find_file(uploaded_files_eval, model_name)\n",
    "        \n",
    "start_tuning_job(model_name, it_file, eval_file)"
   ]
  },
  {
   "cell_type": "code",
   "execution_count": 35,
   "id": "9d690cfa-9011-4ae0-aa6f-3487f5029e9d",
   "metadata": {},
   "outputs": [],
   "source": [
    "model_name = \"kyle\"\n",
    "it_file = find_file(uploaded_files, model_name)\n",
    "eval_file = find_file(uploaded_files_eval, model_name)\n",
    "        \n",
    "start_tuning_job(model_name, it_file, eval_file)"
   ]
  },
  {
   "cell_type": "code",
   "execution_count": 37,
   "id": "d6328cc2-d13e-487b-9121-0d2aab233c2e",
   "metadata": {},
   "outputs": [],
   "source": [
    "model_name = \"stan\"\n",
    "it_file = find_file(uploaded_files, model_name)\n",
    "eval_file = find_file(uploaded_files_eval, model_name)\n",
    "        \n",
    "start_tuning_job(model_name, it_file, eval_file)"
   ]
  },
  {
   "cell_type": "code",
   "execution_count": 39,
   "id": "fd69cf9a-18b6-4a86-adaa-d292ef3b3901",
   "metadata": {},
   "outputs": [],
   "source": [
    "model_name = \"manager\"\n",
    "it_file = find_file(uploaded_files, model_name)\n",
    "eval_file = find_file(uploaded_files_eval, model_name)\n",
    "        \n",
    "start_tuning_job(model_name, it_file, eval_file)"
   ]
  }
 ],
 "metadata": {
  "kernelspec": {
   "display_name": "Python 3 (ipykernel)",
   "language": "python",
   "name": "python3"
  },
  "language_info": {
   "codemirror_mode": {
    "name": "ipython",
    "version": 3
   },
   "file_extension": ".py",
   "mimetype": "text/x-python",
   "name": "python",
   "nbconvert_exporter": "python",
   "pygments_lexer": "ipython3",
   "version": "3.11.4"
  }
 },
 "nbformat": 4,
 "nbformat_minor": 5
}
