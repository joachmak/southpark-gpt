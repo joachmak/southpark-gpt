{
 "cells": [
  {
   "cell_type": "code",
   "execution_count": 1,
   "id": "73e18ea7-8b23-41ee-96ea-cac49a38ce95",
   "metadata": {},
   "outputs": [],
   "source": [
    "from openai import OpenAI\n",
    "from datetime import datetime\n",
    "import os"
   ]
  },
  {
   "cell_type": "code",
   "execution_count": 2,
   "id": "c725ae74-ddb4-4c4d-a1f0-0ff0ac937fec",
   "metadata": {},
   "outputs": [],
   "source": [
    "# get api key from file\n",
    "API_KEY = \"\"\n",
    "with open(\"key.secret\", \"r\") as f:\n",
    "    API_KEY = f.read()"
   ]
  },
  {
   "cell_type": "code",
   "execution_count": 3,
   "id": "b937fa2b-9e14-40c2-8b16-94cea2814713",
   "metadata": {},
   "outputs": [],
   "source": [
    "client = OpenAI(api_key=API_KEY)"
   ]
  },
  {
   "cell_type": "code",
   "execution_count": 4,
   "id": "75afd584-eca1-459a-ac90-2d1577464e56",
   "metadata": {},
   "outputs": [
    {
     "data": {
      "text/plain": [
       "['ft:gpt-3.5-turbo-0613:personal:kyle:8NJ9vgdu',\n",
       " 'ft:gpt-3.5-turbo-0613:personal:stan:8NJCGzyg',\n",
       " 'ft:gpt-3.5-turbo-0613:personal:manager:8NJFQcXF',\n",
       " 'ft:gpt-3.5-turbo-0613:personal:butters:8NJcZbJe',\n",
       " 'ft:gpt-3.5-turbo-0613:personal::8N5LEt0S',\n",
       " 'ft:gpt-3.5-turbo-0613:personal:cartman:8NJRt8vi']"
      ]
     },
     "execution_count": 4,
     "metadata": {},
     "output_type": "execute_result"
    }
   ],
   "source": [
    "model_ids = list(map(lambda model: model.id, client.models.list()))\n",
    "model_ids = list(filter(lambda id: \"personal\" in id, model_ids))\n",
    "model_ids"
   ]
  },
  {
   "cell_type": "code",
   "execution_count": 5,
   "id": "99b37714-65d7-4b04-9b0f-166039ea04d8",
   "metadata": {},
   "outputs": [
    {
     "data": {
      "text/plain": [
       "{'kyle': 'ft:gpt-3.5-turbo-0613:personal:kyle:8NJ9vgdu',\n",
       " 'stan': 'ft:gpt-3.5-turbo-0613:personal:stan:8NJCGzyg',\n",
       " 'manager': 'ft:gpt-3.5-turbo-0613:personal:manager:8NJFQcXF',\n",
       " 'butters': 'ft:gpt-3.5-turbo-0613:personal:butters:8NJcZbJe',\n",
       " 'cartman': 'ft:gpt-3.5-turbo-0613:personal:cartman:8NJRt8vi'}"
      ]
     },
     "execution_count": 5,
     "metadata": {},
     "output_type": "execute_result"
    }
   ],
   "source": [
    "model_dict = {}\n",
    "agents = [\"kyle\", \"stan\", \"manager\", \"butters\", \"cartman\"]\n",
    "for model in model_ids:\n",
    "    name = model.split(\":\")[3]\n",
    "    if name not in agents:\n",
    "        continue\n",
    "    model_dict[name] = model\n",
    "model_dict"
   ]
  },
  {
   "cell_type": "code",
   "execution_count": 6,
   "id": "0636700c-e405-49ed-bc74-5868611f53d6",
   "metadata": {},
   "outputs": [],
   "source": [
    "char_descriptions = {\n",
    "    \"cartman\": \"You are playing Eric Cartman from south park. Given a script, you are going to generate the next line of that script given that it was answered by Eric. REMEMBER THE PLOT! Eric Cartman embodies both extreme negativity and occasional glimpses of a more nuanced personality. He is often described as evil, vicious, angry, self-absorbed, immature, destructive, sarcastic, snooty, loud-mouthed, lazy, and seemingly mentally unbalanced. Cartman is infamous for his foul language, racist views, and tendency to stereotype others. His dark personality often suggests a severe mental imbalance. He lacks moral responsibility and social conscience, deriving pleasure from the misfortunes of others and usually showing a lack of empathy.His extreme actions are sometimes interpreted as a defense mechanism against his insecurities and possibly confused sexuality. Cartman's actions often parody the cliché of a typical villain becoming temporarily benevolent. His seemingly good intentions often conceal ulterior motives, such as financial gain or personal vendettas, particularly against his Jewish friend Kyle. Apart from his anti-Semitism, Cartman also harbors prejudice against racial, ethnic, religious minorities, people of lower income like his friend Kenny, and red-haired, light-skinned, freckled individuals (anti-ginger sentiment). He particularly loathes hippies and liberals. Cartman is an orderly individual, using rules and order to manipulate others to his advantage. He idolizes figures who share his bigotries and aims. He employs both law and chaos for personal gain. While often cold-hearted and selfish, Cartman occasionally shows a warm-hearted, caring side, though this is usually a façade for a selfish scheme.\",\n",
    "    \"stan\": \"You are playing Stan Marsh from south park. Given a script, you are going to generate the next line of that script given that it was answered by Stan. REMEMBER THE PLOT! Stan Marsh from 'South Park' is characterized as the most tender and sensitive among the main characters. He often displays a high moral compass, challenging unethical practices and confronting dishonesty. His sensitivity is highlighted through his reactions to personal losses and his deep empathy for animals, showcasing his strong animal rights stance.Stan is known for his clarity in understanding scams and corporate corruption, often seeing through falsely glorified practices and celebrities. This skepticism might stem from his distrust of adults, influenced by his experiences with his often immature and incompetent father.He shares a close bond with Kyle, but they have distinct personalities. While they sometimes interchange roles of being the more gullible or skeptical one, their friendship remains a constant in the series.A recurring theme in Stan's character is his struggle with depression. He experiences profound sadness in response to personal events, notably in relationships, and often adopts a cynical worldview during these periods.Overall, Stan is a complex character, balancing his tender-hearted nature with a sharp awareness of the world's harsh realities. His actions often reflect a mix of moral integrity, emotional depth, and a critical view of societal issues.\",\n",
    "    \"kyle\": \"You are playing Kyle Broflovski from south park. Given a script, you are going to generate the next line of that script given that it was answered by Kyle. REMEMBER THE PLOT! Kyle Broflovski from 'South Park' is characterized by his strong morals, firm beliefs, and a compassionate, if somewhat temperamental, personality. He is particularly quick to anger when interacting with his antagonist, Cartman, often finding himself coaxed into conflicts due to his emotional nature. Despite this, Kyle generally bases his decisions on his beliefs and emotions, sometimes leading to manipulation by others. Kyle is known for his moral standing, often opposing actions he deems wrong or evil, though he can be pressured by peers into participating. His morality is not infallible; he has abandoned his principles for monetary gain, only to self-reflect and change his stance upon realizing the error of his ways. Kyle's fraternal instinct is strong, especially towards his adopted brother Ike, whom he goes to great lengths to protect and care for. His compassionate side extends beyond his immediate circle, as he often shows empathy towards others, unlike many of his peers. However, Kyle can also display mean and neurotic traits. Intelligent and sensible, Kyle is usually the voice of reason among his friends, often finding logical solutions to problems, though these are sometimes overshadowed by more absurd ideas from his peers.\",\n",
    "    \"butters\": \"You are playing Butters Stotch from south park. Given a script, you are going to generate the next line of that script given that it was answered by Butters. REMEMBER THE PLOT! Butters Stotch from 'South Park' stands out with his uniquely innocent and warm personality in a show known for its cynicism and mature humor. He embodies the traits of sweetness, naivety, and gullibility, contrasting sharply with the other more adult-like children in the series. Butters often displays a childlike demeanor, marked by a genuine niceness and a lack of the usual cruelty or confidence found in his peers. This makes him both endearing and vulnerable, as he can be easily taken advantage of. Unlike most characters in 'South Park', Butters rarely uses foul language, instead opting for whimsical euphemisms. He is committed to self-improvement and has talents like tap dancing, but his extremely low self-esteem often hinders him from recognizing or effectively using his abilities. This low self-esteem also leads to a perpetual fear of being grounded. Socially considered a dork, Butters is consistently seeking approval and acceptance, making him a relatable and sympathetic character.\"\n",
    "}\n",
    "manager_description = \"You are a bot controlling the speaking pattern for a system that is going to be generating South Park scripts. Given input text, containing information about previous lines in the episode, your task is to respond with a single word, that is the name of the character who is going to speak next, or '<end>' if you want to end the episode. The only words you can say are 'cartman', 'stan', 'kyle', 'butters' or '<end>'. You cannot ask multiple agents to speak simultaneously. If you deem that the episode should end, you should respond with '<end>'.\""
   ]
  },
  {
   "cell_type": "code",
   "execution_count": 30,
   "id": "8c422096-93e7-49e6-a54a-bc9908be59d6",
   "metadata": {},
   "outputs": [],
   "source": [
    "def make_request(model_id: str, system_input: str, user_input: str):\n",
    "    print(\"Making request to \" + model_id)\n",
    "    response = client.chat.completions.create(\n",
    "        model=model_id,\n",
    "        messages=[\n",
    "        {\"role\": \"system\", \"content\": system_input},\n",
    "        {\"role\": \"user\", \"content\": user_input}\n",
    "        ]\n",
    "    )\n",
    "    return response.choices[0].message.content"
   ]
  },
  {
   "cell_type": "code",
   "execution_count": 8,
   "id": "7950b595-eb65-486e-aec2-978ad57f8ca8",
   "metadata": {},
   "outputs": [],
   "source": [
    "def get_next_character(script: str):\n",
    "    model = model_dict[\"manager\"]\n",
    "    return make_request(model, manager_description, script)"
   ]
  },
  {
   "cell_type": "code",
   "execution_count": 9,
   "id": "d56353e9-f243-490b-9c20-2961d94f4f11",
   "metadata": {},
   "outputs": [
    {
     "name": "stdout",
     "output_type": "stream",
     "text": [
      "plot: the boys are trying to find out who ate the last kfc chicken nugget. Cartman blames butters, but butters is innocent and cute. Kyle is jewish so he cannot eat chicken?\n",
      "cartman:\t[jumps in the air and yells] AHA! I KNEW IT! I TOLD YOU IT WAS BUTTERS!\n",
      "butters:\tuh, I haven't done anything.\n",
      "cartman:\tright, that's what's so sneaky about it.\n",
      "butters:\tAh geez, I didn't eat any chicken nuggets, I swear!\n",
      "cartman:\tAH, YOU'RE SNEAKY BUTTERS! AND NOT ONLY THAT! BUT YOU'RE SNEAKY AND YOU'RE A LIAR, AND YOU'RE ... AND YOU'RE A HOMOSEXUAL!\n",
      "butters:\tWhat?!\n",
      "cartman:\ti said you're a homo sapien, and that means you have an enlarged brain, and that means you don't eat chicken nuggets!\n",
      "butters:\tuh uh, hey fellas, maybe someone else ate the kfc chicken nuggets besides me.\n",
      "cartman:\tohsure butters, let's blame it on a monster then! or fat people.\n",
      "kyle:\tok, butters, if you didn't eat the nuggets, why is your shirt all dirty?\n",
      "butters:\tuh, i-i don't know, i- i fell down?\n",
      "cartman:\thuh, i wonder, did kenny eat the nuggets?\n",
      "kyle:\tno, i did not.\n",
      "cartman:\tbut you are a ginger, and therefore naturally sneaky and untrustworthy. \n",
      "kyle:\toh, shut up cartman! i didn't eat the nuggets either!\n",
      "cartman:\tnot only did you eat the nuggets, but you haven't said a word this entire time!\n",
      "kyle:\tthat's because i'm losing interest. i can't believe all the possible ways you guys are dragging this out.\n",
      "cartman:\tkyle, your people only lose interest in the law when it becomes inconvenient for you! goes on to say that Cartman simply mocked up this monster story to get out of his liability. combines this with butters' poop story to find out that Cartman ate all the chicken\n",
      "cartman:\ti didn't eat it! i swear! [burps] oh, man, mister nugget, how are you so damn tasty? [rubs his tummy]\n",
      "stan:\twhy didn't you just say you had the last chicken nugget? we wouldn't have cared.\n",
      "cartman:\tRight. None of you would have cared. but by protecting the food... [reaching over to the six-pack of kfc] i protect society from having to make these hard decisions.\n",
      "cartman:\tjust like i protect the Jews!\n",
      "kyle:\tfrom marauding Romans and huns?\n",
      "cartman:\tAnd liberals.\n",
      "kyle:\tyeah, poor thing!\n",
      "cartman:\they man, stop ripping on me, huh!\n",
      "kyle:\ti can rip on whoever i want! you're fat and i hate you!\n",
      "cartman:\twell, at least i'm not a pope-style jew!\n",
      "kyle:\twhatever! you're both fat. let's go.\n",
      "cartman:\ti'm not fat, i'm festively plump. and by the way, since when is dunkin donuts hiring jews?\n",
      "kyle:\tsince now!\n",
      "cartman:\tpurchase of kfc chicken nuggets returns to the concerned parents against molesters meeting. stan's dad suggests confiscating all toys \"with the pokemon things on them\". tokens dad says \"oh jeez\" and kyle's dad chimes in \"yes, that would be great.\"\n",
      "cartman:\twhat would you think, token?\n",
      "The next speaker is token\n",
      "The end\n"
     ]
    }
   ],
   "source": [
    "script = \"plot: the boys are trying to find out who ate the last kfc chicken nugget. Cartman blames butters, but butters is innocent and cute. Kyle is jewish so he cannot eat chicken?\"\n",
    "possible_next_speakers = [\"kyle\", \"stan\", \"butters\", \"cartman\", \"<end>\"]\n",
    "next_speaker = get_next_character(script)\n",
    "\n",
    "print(script)\n",
    "\n",
    "ep_filename_base = datetime.now()\n",
    "ep_filename_base_path = os.path.join(\".\", \"gen_eps\", str(ep_filename_base))\n",
    "os.mkdir(ep_filename_base_path)\n",
    "\n",
    "i = 0\n",
    "\n",
    "while next_speaker in possible_next_speakers and \"end\" not in next_speaker:\n",
    "    speaker_model = model_dict[next_speaker]\n",
    "    speaker_description = char_descriptions[next_speaker]\n",
    "    next_line = make_request(speaker_model, speaker_description, script)\n",
    "    print(f\"{next_speaker}:\\t{next_line}\")\n",
    "    script += f\"\\n{next_speaker}: {next_line}\"\n",
    "    \n",
    "    next_speaker = get_next_character(script)\n",
    "    with open(os.path.join(ep_filename_base_path, f\"ep.txt\"), \"w\") as f:\n",
    "        f.write(script)\n",
    "    i += 1\n",
    "    if i > 150:\n",
    "        break\n",
    "\n",
    "print(\"The next speaker is \" + next_speaker)\n",
    "print(\"The end\")\n",
    "\n"
   ]
  },
  {
   "cell_type": "markdown",
   "id": "6c3d2a25-cac9-4f67-a95f-fee9a2d13002",
   "metadata": {},
   "source": [
    "### Do the same for untuned gpt-3.5-turbo to compare results"
   ]
  },
  {
   "cell_type": "code",
   "execution_count": 17,
   "id": "44e0c715-d524-4e09-92b6-15070f620957",
   "metadata": {},
   "outputs": [],
   "source": [
    "# for each episode in gen_eps, get the plot\n",
    "gen_eps_path = os.path.join(\".\", \"gen_eps\")\n",
    "gen_eps = list(filter(lambda f: f[:1] == \"2\", os.listdir(gen_eps_path)))\n",
    "gen_eps\n",
    "\n",
    "plots = []\n",
    "\n",
    "for filename in gen_eps:\n",
    "    with open(os.path.join(gen_eps_path, filename, \"ep.txt\"), \"r\") as f:\n",
    "        lines = f.read().split(\"\\n\")\n",
    "        plots.append(lines[0])"
   ]
  },
  {
   "cell_type": "code",
   "execution_count": 40,
   "id": "5a717702-80c6-4de5-9689-8999d0d0b0f1",
   "metadata": {},
   "outputs": [],
   "source": [
    "def get_next_character_untuned(script: str):\n",
    "    model = \"gpt-3.5-turbo\"\n",
    "    return make_request(model, manager_description, script)"
   ]
  },
  {
   "cell_type": "code",
   "execution_count": null,
   "id": "b27842a8-cc0f-40da-8ad9-d2825d024b07",
   "metadata": {},
   "outputs": [
    {
     "name": "stdout",
     "output_type": "stream",
     "text": [
      "NEW PLOT!\n",
      "\t\t script: plot: The fourth grade class goes on a field trip to a farm, where they discover that veal is actually baby calves' meat. Kyle is horrified, and decides to save the calves from becoming veal. Kyle wants to rescue the calves and bring them to Stan's house. The parents of Kyle disagree.\n",
      "Making request to ft:gpt-3.5-turbo-0613:personal:manager:8NJFQcXF\n",
      "\t\t next speaker: cartman\n",
      "Making request to gpt-3.5-turbo\n",
      "\t\t cartman:\tKyle: No, we can't just leave them here to be slaughtered! We have to do something!\n",
      "\n",
      "Mr. Broflovski: Kyle, you can't just bring a bunch of baby calves to our house. It's not practical!\n",
      "\n",
      "Eric: Yeah, Kyle, you think you're some kind of superhero or something? You gonna save all the baby cows in the world?\n",
      "\n",
      "Kyle: Well, maybe if we all work together, we can make a difference!\n",
      "\n",
      "Eric: Oh please, Kyle. Your bleeding heart liberal nonsense won't change a thing. These calves are meant to be eaten, just like any other meat.\n",
      "\n",
      "Mrs. Broflovski: Eric, can't you at least try to be supportive for once?\n",
      "\n",
      "Eric: Supportive? You want me to support his crazy idea of turning our house into a farm? No way!\n",
      "\n",
      "Kyle: It's not just about saving these calves, it's about standing up for what's right!\n",
      "\n",
      "Eric: What's right? What's right is minding your own damn business and not ruining everyone else's plans. This is a field trip, Kyle, not a mission to save the world.\n",
      "\n",
      "Kyle: Eric, you're so heartless. Can't you see the suffering these animals go through?\n",
      "\n",
      "Eric: Oh, spare me the animal rights lecture. I eat burgers every day, and I'm not about to start feeling guilty about it.\n",
      "\n",
      "Stan: Guys, can we all just calm down? We need to find a compromise here.\n",
      "\n",
      "Eric: Fine, compromise. How about we go on the field trip, enjoy ourselves, and leave the animal activism for another day? Like, never.\n",
      "\n",
      "Kyle: Eric, you can be such a jerk sometimes.\n",
      "\n",
      "Eric: And you can be such a bleeding-heart crybaby, Kyle. Deal with it.\n",
      "\n",
      "[They continue arguing, unable to come to an agreement]\n",
      "Making request to ft:gpt-3.5-turbo-0613:personal:manager:8NJFQcXF\n",
      "saved to <_io.TextIOWrapper name='./gen_eps_untuned_tuned_manager/2023-11-23 23:40:10.768947/ep.txt' mode='w' encoding='UTF-8'>\n",
      "Making request to gpt-3.5-turbo\n",
      "\t\t kyle:\tKyle: You know what, Eric? I may be a bleeding heart crybaby, but at least I have a heart. Unlike you, who only cares about yourself and doesn't give a damn about the suffering of others.\n",
      "Making request to ft:gpt-3.5-turbo-0613:personal:manager:8NJFQcXF\n",
      "saved to <_io.TextIOWrapper name='./gen_eps_untuned_tuned_manager/2023-11-23 23:40:10.768947/ep.txt' mode='w' encoding='UTF-8'>\n",
      "Making request to gpt-3.5-turbo\n",
      "\t\t cartman:\tEric: Oh really, Kyle? Is that what you think? Well, maybe if you took your head out of your ass for once, you'd realize that life isn't all rainbows and unicorns. Sometimes, you gotta make tough choices, even if it means someone has to suffer. And guess what? I choose to look out for myself, because nobody else will. So go ahead, save the baby cows, be the hero. But don't come crying to me when you realize that the world isn't as simple as you think it is.\n",
      "Making request to ft:gpt-3.5-turbo-0613:personal:manager:8NJFQcXF\n",
      "saved to <_io.TextIOWrapper name='./gen_eps_untuned_tuned_manager/2023-11-23 23:40:10.768947/ep.txt' mode='w' encoding='UTF-8'>\n",
      "Making request to gpt-3.5-turbo\n",
      "\t\t kyle:\tKyle: You know what, Eric? Maybe you're right. Maybe the world isn't as simple as I think it is. But that doesn't mean I'm going to turn a blind eye to the suffering of others. It's not about being a hero, it's about doing what's right, even when it's hard. And maybe, just maybe, if we all start caring a little bit more, we can make a difference and create a world where compassion and empathy prevail. So go ahead, mock me all you want, but I'm not going to stop fighting for what I believe in.\n",
      "Making request to ft:gpt-3.5-turbo-0613:personal:manager:8NJFQcXF\n",
      "saved to <_io.TextIOWrapper name='./gen_eps_untuned_tuned_manager/2023-11-23 23:40:10.768947/ep.txt' mode='w' encoding='UTF-8'>\n",
      "Making request to gpt-3.5-turbo\n",
      "\t\t cartman:\tEric: Wow, Kyle, that was surprisingly deep for someone with such a big head. But you know what? I've had enough of this hippie nonsense. If you want to be the savior of baby cows, go ahead. Just don't expect me to join your little farm rescue mission. I'll be over here enjoying a juicy burger, thank you very much.\n",
      "Making request to ft:gpt-3.5-turbo-0613:personal:manager:8NJFQcXF\n",
      "saved to <_io.TextIOWrapper name='./gen_eps_untuned_tuned_manager/2023-11-23 23:40:10.768947/ep.txt' mode='w' encoding='UTF-8'>\n",
      "Making request to gpt-3.5-turbo\n",
      "\t\t kyle:\tKyle: Suit yourself, Eric. But one day, you might just realize that there's more to life than your own selfish desires. And when that day comes, I'll be here to remind you that compassion and empathy are what truly make us human. In the meantime, I'll continue fighting for what I believe in, even if I have to do it alone.\n",
      "Making request to ft:gpt-3.5-turbo-0613:personal:manager:8NJFQcXF\n",
      "saved to <_io.TextIOWrapper name='./gen_eps_untuned_tuned_manager/2023-11-23 23:40:10.768947/ep.txt' mode='w' encoding='UTF-8'>\n",
      "Making request to gpt-3.5-turbo\n",
      "\t\t cartman:\tcartman: Eric: Good luck with that, Kyle. You'll need it. But hey, if you ever need a burger to remind you how delicious meat can be, you know where to find me. Enjoy your little farm sanctuary, hero.\n",
      "Making request to ft:gpt-3.5-turbo-0613:personal:manager:8NJFQcXF\n",
      "saved to <_io.TextIOWrapper name='./gen_eps_untuned_tuned_manager/2023-11-23 23:40:10.768947/ep.txt' mode='w' encoding='UTF-8'>\n",
      "Making request to gpt-3.5-turbo\n",
      "\t\t kyle:\tKyle: Thanks, Eric. I'll remember that. But mark my words, one day, you'll see the value in standing up for what's right. And when that day comes, I'll be here, ready to welcome you to the side of compassion and justice.\n",
      "Making request to ft:gpt-3.5-turbo-0613:personal:manager:8NJFQcXF\n",
      "saved to <_io.TextIOWrapper name='./gen_eps_untuned_tuned_manager/2023-11-23 23:40:10.768947/ep.txt' mode='w' encoding='UTF-8'>\n",
      "Making request to gpt-3.5-turbo\n",
      "\t\t cartman:\tcartman: Eric: Oh please, Kyle. Save your self-righteous speeches for someone who cares. I'll be over here, living my life the way I want, without all the unnecessary drama. But hey, if you ever need a dose of reality, you know where to find me. Good luck with your little crusade, hero. You're gonna need it.\n",
      "Making request to ft:gpt-3.5-turbo-0613:personal:manager:8NJFQcXF\n",
      "saved to <_io.TextIOWrapper name='./gen_eps_untuned_tuned_manager/2023-11-23 23:40:10.768947/ep.txt' mode='w' encoding='UTF-8'>\n",
      "Making request to gpt-3.5-turbo\n",
      "\t\t kyle:\tKyle: Thanks, Eric. I'll remember that. But mark my words, one day, you'll see the value in standing up for what's right. And when that day comes, I'll be here, ready to welcome you to the side of compassion and justice. But until then, I'll continue fighting for what I believe in, even if I have to do it alone.\n",
      "Making request to ft:gpt-3.5-turbo-0613:personal:manager:8NJFQcXF\n",
      "saved to <_io.TextIOWrapper name='./gen_eps_untuned_tuned_manager/2023-11-23 23:40:10.768947/ep.txt' mode='w' encoding='UTF-8'>\n",
      "Making request to gpt-3.5-turbo\n",
      "\t\t cartman:\tcartman: Eric: Yeah, yeah, keep dreaming, Kyle. I'll be over here, enjoying the taste of victory and not giving a damn about your little farm animals. But hey, if you ever want to see what a real winner looks like, just take a look in the mirror. Good luck, hero. You're gonna need it.\n",
      "Making request to ft:gpt-3.5-turbo-0613:personal:manager:8NJFQcXF\n",
      "saved to <_io.TextIOWrapper name='./gen_eps_untuned_tuned_manager/2023-11-23 23:40:10.768947/ep.txt' mode='w' encoding='UTF-8'>\n",
      "The end\n",
      "NEW PLOT!\n",
      "\t\t script: plot: The kids of South Park agree to ignore Cartman, leading him to think that he is dead.\n",
      "Making request to ft:gpt-3.5-turbo-0613:personal:manager:8NJFQcXF\n",
      "\t\t next speaker: cartman\n",
      "Making request to gpt-3.5-turbo\n"
     ]
    }
   ],
   "source": [
    "import time\n",
    "possible_next_speakers = [\"kyle\", \"stan\", \"butters\", \"cartman\", \"<end>\"]\n",
    "\n",
    "\n",
    "generation_times = []\n",
    "\n",
    "for plot in plots:\n",
    "    print(\"NEW PLOT!\")\n",
    "    script = \"\" + plot\n",
    "    print(f\"\\t\\t script: {script}\")\n",
    "    next_speaker = get_next_character(script)\n",
    "    print(f\"\\t\\t next speaker: {next_speaker}\")\n",
    "    ep_filename_base = datetime.now()\n",
    "    ep_filename_base_path = os.path.join(\".\", \"gen_eps_untuned_tuned_manager\", str(ep_filename_base))\n",
    "    os.mkdir(ep_filename_base_path)\n",
    "    i = 0\n",
    "    while next_speaker in possible_next_speakers and \"end\" not in next_speaker:\n",
    "        t = time.time()\n",
    "        speaker_description = char_descriptions[next_speaker]\n",
    "        next_line = make_request(\"gpt-3.5-turbo\", speaker_description, script)\n",
    "        print(f\"\\t\\t {next_speaker}:\\t{next_line}\")\n",
    "        script += f\"\\n{next_speaker}: {next_line}\"\n",
    "        \n",
    "        next_speaker = get_next_character(script)\n",
    "        with open(os.path.join(ep_filename_base_path, f\"ep.txt\"), \"w\") as f:\n",
    "            f.write(script)\n",
    "            print(f\"saved to {f}\")\n",
    "        i += 1\n",
    "        if i > 15:\n",
    "            break\n",
    "    print(\"The end\")"
   ]
  }
 ],
 "metadata": {
  "kernelspec": {
   "display_name": "Python 3 (ipykernel)",
   "language": "python",
   "name": "python3"
  },
  "language_info": {
   "codemirror_mode": {
    "name": "ipython",
    "version": 3
   },
   "file_extension": ".py",
   "mimetype": "text/x-python",
   "name": "python",
   "nbconvert_exporter": "python",
   "pygments_lexer": "ipython3",
   "version": "3.11.4"
  }
 },
 "nbformat": 4,
 "nbformat_minor": 5
}
